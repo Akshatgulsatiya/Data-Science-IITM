{
 "cells": [
  {
   "cell_type": "code",
   "execution_count": null,
   "id": "86982f4d",
   "metadata": {},
   "outputs": [],
   "source": [
    "# File Handling Part 2\n",
    "# Requests Module Example\n",
    "# OOPs and Pillars\n",
    "# Python to DB Connectivity!!"
   ]
  },
  {
   "cell_type": "code",
   "execution_count": null,
   "id": "5b1434ea",
   "metadata": {},
   "outputs": [],
   "source": [
    "pip install googlesearch-python"
   ]
  },
  {
   "cell_type": "code",
   "execution_count": null,
   "id": "348c6797",
   "metadata": {},
   "outputs": [],
   "source": [
    "from googlesearch import search\n",
    "search(\"Data science\",num_results=10)"
   ]
  },
  {
   "cell_type": "code",
   "execution_count": null,
   "id": "2093f0af",
   "metadata": {},
   "outputs": [],
   "source": [
    "from googlesearch import search\n",
    "data = search(\"cristiano\",num_results=10)\n",
    "all_data = []\n",
    "for i in data:\n",
    "    all_data.append(i+'\\n')\n",
    "file = open('football player.txt',mode ='w')\n",
    "file.writelines(all_data)\n",
    "file.close()\n",
    "print('done')"
   ]
  },
  {
   "cell_type": "code",
   "execution_count": null,
   "id": "c50d692b",
   "metadata": {},
   "outputs": [],
   "source": [
    "from googlesearch import search\n",
    "title= 'Top footbaler in the world'\n",
    "data = search(title,num_results=10)\n",
    "all_data = []\n",
    "for i in data:\n",
    "    all_data.append(i+'\\n')\n",
    "file = open(f'{title}.txt',mode ='w')\n",
    "file.writelines(all_data)\n",
    "file.close()\n",
    "print('done')"
   ]
  },
  {
   "cell_type": "code",
   "execution_count": null,
   "id": "75e09358",
   "metadata": {},
   "outputs": [],
   "source": [
    "from googlesearch import search\n",
    "title= 'Top hockey players in the world'\n",
    "data = search(title,num_results=10)\n",
    "all_data = []\n",
    "for i in data:\n",
    "    all_data.append(i+'\\n')\n",
    "#mode = x means : its create a new file\n",
    "file = open(f'{title}.txt',mode ='x')\n",
    "file.writelines(all_data)\n",
    "file.close()\n",
    "print('done')"
   ]
  },
  {
   "cell_type": "code",
   "execution_count": null,
   "id": "b8891765",
   "metadata": {},
   "outputs": [],
   "source": [
    "from googlesearch import search\n",
    "title= 'Honey singh top songs'\n",
    "data = search(title,num_results=5)\n",
    "all_data = []\n",
    "for i in data:\n",
    "    all_data.append(i+'\\n')\n",
    "\n",
    "#mode = a means : its used of append new line\n",
    " \n",
    "file = open(f'{title}.txt',mode ='a')\n",
    "\n",
    "# .write is used for single line \n",
    "# .writelines is used for multiple lines\n",
    " \n",
    "file.write('Before 2016\\n')\n",
    "file.writelines(all_data)\n",
    "file.close()\n",
    "print('done')"
   ]
  },
  {
   "cell_type": "code",
   "execution_count": null,
   "id": "8e6e0a8a",
   "metadata": {},
   "outputs": [],
   "source": [
    "# mode = + : it is used as 'r+' to perform read and write respectively\n",
    "\n",
    "\n",
    "f = open('anime.txt',mode = 'w+')\n",
    "f.write('This is Day 4 of DS training!!')\n",
    "f.close()\n",
    "print('Done')"
   ]
  },
  {
   "cell_type": "code",
   "execution_count": null,
   "id": "98dee96f",
   "metadata": {},
   "outputs": [],
   "source": [
    "f = open('anime.txt','r+')\n",
    "f.write('This is just a Line!!')\n",
    "f.close()"
   ]
  },
  {
   "cell_type": "code",
   "execution_count": null,
   "id": "7af8f4c9",
   "metadata": {},
   "outputs": [],
   "source": [
    "f1 = open('anime.txt','r')\n",
    "all_data = f1.read()\n",
    "\n",
    "f2 = open(\"anime.txt\",'w')\n",
    "f2.write(all_data)\n",
    "\n",
    "f1.close()\n",
    "f2.close()\n",
    "print('done')"
   ]
  },
  {
   "cell_type": "code",
   "execution_count": 7,
   "id": "c62ddddf",
   "metadata": {},
   "outputs": [
    {
     "name": "stdout",
     "output_type": "stream",
     "text": [
      "Requirement already satisfied: qrcode in c:\\users\\aksha\\appdata\\local\\programs\\python\\python313\\lib\\site-packages (8.2)\n",
      "Requirement already satisfied: colorama in c:\\users\\aksha\\appdata\\local\\programs\\python\\python313\\lib\\site-packages (from qrcode) (0.4.6)\n",
      "Note: you may need to restart the kernel to use updated packages.\n"
     ]
    },
    {
     "name": "stderr",
     "output_type": "stream",
     "text": [
      "\n",
      "[notice] A new release of pip is available: 24.3.1 -> 25.1.1\n",
      "[notice] To update, run: python.exe -m pip install --upgrade pip\n"
     ]
    }
   ],
   "source": [
    "pip install qrcode"
   ]
  },
  {
   "cell_type": "code",
   "execution_count": 9,
   "id": "888920e2",
   "metadata": {},
   "outputs": [],
   "source": [
    "url='https://github.com/Akshatgulsatiya/Data-Science-IITM'\n",
    "import qrcode\n",
    "img = qrcode.make(url)\n",
    "img.save('gitqr.png')"
   ]
  },
  {
   "cell_type": "markdown",
   "id": "36440bd2",
   "metadata": {},
   "source": [
    "Binary file handling"
   ]
  },
  {
   "cell_type": "code",
   "execution_count": 2,
   "id": "279a5dc9",
   "metadata": {},
   "outputs": [
    {
     "name": "stdout",
     "output_type": "stream",
     "text": [
      "done\n"
     ]
    }
   ],
   "source": [
    "path = r'''C:\\Users\\Aksha\\Downloads\\download.jpg'''\n",
    "file = open(path,mode='rb')\n",
    "data = file.read()\n",
    "print('done')"
   ]
  },
  {
   "cell_type": "code",
   "execution_count": 7,
   "id": "547f1fac",
   "metadata": {},
   "outputs": [
    {
     "name": "stdout",
     "output_type": "stream",
     "text": [
      "b'\\xff\\xd8\\xff\\xe0\\x00\\x10JFIF\\x00\\x01\\x01\\x00\\x00\\x01\\x00\\x01\\x00\\x00\\xff\\xdb\\x00\\x84\\x00\\t\\x06\\x07\\x13\\x13\\x12\\x15\\x12\\x12\\x12\\x15\\x15\\x15\\x15\\x15\\x15\\x16\\x15\\x15\\x17\\x15\\x17\\x15\\x15\\x15\\x15\\x17\\x17\\x17\\x17\\x15\\x15\\x15\\x15\\x18\\x1d( \\x18\\x1a%\\x1b\\x17\\x15!1!%)+...\\x17\\x1f383-7(-.+\\x01\\n\\n\\n\\x0e\\r\\x0e\\x1a\\x10\\x10\\x1a-%\\x1f%--------------------------------------------------\\xff\\xc0\\x00\\x11\\x08\\x00\\xe1\\x00\\xe1\\x03\\x01\\x11\\x00\\x02\\x11\\x01\\x03\\x11\\x01\\xff\\xc4\\x00\\x1c\\x00\\x00\\x02\\x03\\x01\\x01\\x01\\x01\\x00\\x00\\x00\\x00\\x00\\x00\\x00\\x00\\x00\\x03\\x04\\x02\\x05\\x06\\x01'\n"
     ]
    }
   ],
   "source": [
    "print(data[:200])"
   ]
  },
  {
   "cell_type": "code",
   "execution_count": 8,
   "id": "3042aedd",
   "metadata": {},
   "outputs": [
    {
     "name": "stdout",
     "output_type": "stream",
     "text": [
      "Done\n"
     ]
    }
   ],
   "source": [
    "f = open('image.jpg',mode = 'wb')\n",
    "f.write(data)\n",
    "f.close()\n",
    "print('Done')"
   ]
  },
  {
   "cell_type": "code",
   "execution_count": null,
   "id": "baf70ef9",
   "metadata": {},
   "outputs": [],
   "source": [
    "from PIL import Image\n",
    "path = r'''C:\\Users\\Aksha\\Downloads\\download.jpg'''\n",
    "img = Image.open(path)\n",
    "img.show()"
   ]
  },
  {
   "cell_type": "code",
   "execution_count": 11,
   "id": "589cd98d",
   "metadata": {},
   "outputs": [
    {
     "data": {
      "text/plain": [
       "bytes"
      ]
     },
     "execution_count": 11,
     "metadata": {},
     "output_type": "execute_result"
    }
   ],
   "source": [
    "url = '''https://encrypted-tbn0.gstatic.com/images?q=tbn:ANd9GcSmf1gGkLXiUEBNMLTOQnQzXQ4YTz-L_3qE5g&s'''\n",
    "import requests as r\n",
    "image_data =(r.get(url).content)\n",
    "type(image_data)\n"
   ]
  },
  {
   "cell_type": "code",
   "execution_count": 15,
   "id": "4295b011",
   "metadata": {},
   "outputs": [
    {
     "data": {
      "text/plain": [
       "<function BufferedWriter.close()>"
      ]
     },
     "execution_count": 15,
     "metadata": {},
     "output_type": "execute_result"
    }
   ],
   "source": [
    "f = open('download_image.jpg','wb')\n",
    "f.write(image_data)\n",
    "f.close\n"
   ]
  },
  {
   "cell_type": "code",
   "execution_count": 17,
   "id": "08e02024",
   "metadata": {},
   "outputs": [
    {
     "data": {
      "image/jpeg": "[encoded data removed]",
      "text/plain": [
       "<IPython.core.display.Image object>"
      ]
     },
     "execution_count": 17,
     "metadata": {},
     "output_type": "execute_result"
    }
   ],
   "source": [
    "from IPython import display\n",
    "display.Image(\"download_image.jpg\")"
   ]
  },
  {
   "cell_type": "code",
   "execution_count": 1,
   "id": "bf41aa40",
   "metadata": {},
   "outputs": [
    {
     "data": {
      "image/jpeg": "[encoded data removed]",
      "text/plain": [
       "<IPython.core.display.Image object>"
      ]
     },
     "metadata": {
      "image/jpeg": {
       "height": 200,
       "width": 200
      }
     },
     "output_type": "display_data"
    },
    {
     "data": {
      "image/jpeg": "[encoded data removed]",
      "text/plain": [
       "<IPython.core.display.Image object>"
      ]
     },
     "metadata": {
      "image/jpeg": {
       "height": 200,
       "width": 200
      }
     },
     "output_type": "display_data"
    },
    {
     "data": {
      "image/jpeg": "[encoded data removed]",
      "text/plain": [
       "<IPython.core.display.Image object>"
      ]
     },
     "metadata": {
      "image/jpeg": {
       "height": 200,
       "width": 200
      }
     },
     "output_type": "display_data"
    },
    {
     "data": {
      "image/jpeg": "[encoded data removed]",
      "text/plain": [
       "<IPython.core.display.Image object>"
      ]
     },
     "metadata": {
      "image/jpeg": {
       "height": 200,
       "width": 200
      }
     },
     "output_type": "display_data"
    },
    {
     "data": {
      "image/jpeg": "[encoded data removed]",
      "text/plain": [
       "<IPython.core.display.Image object>"
      ]
     },
     "metadata": {
      "image/jpeg": {
       "height": 200,
       "width": 200
      }
     },
     "output_type": "display_data"
    }
   ],
   "source": [
    "url = '''https://picsum.photos/200/300'''\n",
    "import requests as r\n",
    "n = 5\n",
    "for i in range(n):\n",
    "  img_data = r.get(url).content\n",
    "  f = open(f'image_{i}.jpg','wb')\n",
    "  f.write(img_data)\n",
    "  f.close()\n",
    "  from IPython import display as d\n",
    "  display(d.Image(f'image_{i}.jpg',width=200,height=200))\n",
    "\n"
   ]
  },
  {
   "cell_type": "code",
   "execution_count": 5,
   "id": "d4c73a38",
   "metadata": {},
   "outputs": [
    {
     "name": "stdout",
     "output_type": "stream",
     "text": [
      "Done\n"
     ]
    }
   ],
   "source": [
    "url_path = '''https://www.python.org/ftp/python/3.13.5/python-3.13.5-amd64.exe'''\n",
    "\n",
    "# context manager\n",
    "import requests as r\n",
    "with open(r'C:\\Users\\Aksha\\Desktop\\python\\akshat.exe','wb') as file:\n",
    "    file.write(r.get(url_path).content)\n",
    "\n",
    "print('Done')"
   ]
  }
 ],
 "metadata": {
  "kernelspec": {
   "display_name": "Python 3",
   "language": "python",
   "name": "python3"
  },
  "language_info": {
   "codemirror_mode": {
    "name": "ipython",
    "version": 3
   },
   "file_extension": ".py",
   "mimetype": "text/x-python",
   "name": "python",
   "nbconvert_exporter": "python",
   "pygments_lexer": "ipython3",
   "version": "3.13.2"
  }
 },
 "nbformat": 4,
 "nbformat_minor": 5
}
