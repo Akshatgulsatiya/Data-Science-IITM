{
 "cells": [
  {
   "cell_type": "code",
   "execution_count": 4,
   "id": "7528143a",
   "metadata": {},
   "outputs": [
    {
     "name": "stdout",
     "output_type": "stream",
     "text": [
      "nitin is a palindrone\n"
     ]
    }
   ],
   "source": [
    "a = 'nitin'\n",
    "a[::-1]\n",
    "if a==a[::-1]:\n",
    " print(f'{a} is a palindrone')\n",
    "else:\n",
    " print(f'{a} is not a palindrone')"
   ]
  },
  {
   "cell_type": "code",
   "execution_count": 6,
   "id": "75f01c87",
   "metadata": {},
   "outputs": [],
   "source": [
    "def check_palindrone(word:str):\n",
    "    if type(word) == str:\n",
    "        word =word.upper()\n",
    "        if word == word[::-1]:\n",
    "            return 'palindrone'\n",
    "        else:\n",
    "            return \"not a palindrone\"\n",
    "    else:\n",
    "        return \"Invalid data type\""
   ]
  },
  {
   "cell_type": "code",
   "execution_count": 9,
   "id": "5075276f",
   "metadata": {},
   "outputs": [
    {
     "data": {
      "text/plain": [
       "'not a palindrone'"
      ]
     },
     "execution_count": 9,
     "metadata": {},
     "output_type": "execute_result"
    }
   ],
   "source": [
    "check_palindrone('ronaldo')"
   ]
  },
  {
   "cell_type": "code",
   "execution_count": 36,
   "id": "f51f40df",
   "metadata": {},
   "outputs": [],
   "source": [
    "def give_fibo(n):\n",
    "    fibo = [0,1]\n",
    "    for i in range(n - 2):\n",
    "        last_num = fibo[-1]\n",
    "        second_last_num = fibo[-2]\n",
    "        next_num = last_num + second_last_num\n",
    "        fibo.append(next_num)\n",
    "    return fibo\n"
   ]
  },
  {
   "cell_type": "code",
   "execution_count": 37,
   "id": "d58ac0c3",
   "metadata": {},
   "outputs": [
    {
     "name": "stdout",
     "output_type": "stream",
     "text": [
      "[0, 1, 1, 2, 3, 5, 8, 13, 21, 34, 55, 89, 144, 233, 377, 610, 987, 1597, 2584, 4181]\n"
     ]
    }
   ],
   "source": [
    "print(give_fibo(20))"
   ]
  },
  {
   "cell_type": "code",
   "execution_count": 40,
   "id": "72afe20c",
   "metadata": {},
   "outputs": [],
   "source": [
    "def check_prime(number):\n",
    "    for i in range(2,number):\n",
    "        if number % i == 0:\n",
    "         return \"not a Prime number\"\n",
    "         break\n",
    "        \n",
    "    else:\n",
    "         return 'Prime number'"
   ]
  },
  {
   "cell_type": "code",
   "execution_count": 41,
   "id": "0c7c666f",
   "metadata": {},
   "outputs": [
    {
     "data": {
      "text/plain": [
       "'Prime number'"
      ]
     },
     "execution_count": 41,
     "metadata": {},
     "output_type": "execute_result"
    }
   ],
   "source": [
    "check_prime(3)"
   ]
  },
  {
   "cell_type": "code",
   "execution_count": 54,
   "id": "3c7f36e1",
   "metadata": {},
   "outputs": [
    {
     "name": "stdout",
     "output_type": "stream",
     "text": [
      "    * \n",
      "   * * \n",
      "  * * * \n",
      " * * * * \n",
      "* * * * * \n"
     ]
    }
   ],
   "source": [
    "n=5\n",
    "for i in range(1,n+1):\n",
    "    print(' '*(n-i)+ i *'* ')"
   ]
  },
  {
   "cell_type": "code",
   "execution_count": 64,
   "id": "11e98530",
   "metadata": {},
   "outputs": [],
   "source": [
    "def print_star(n = 5, typ = 'left'):\n",
    "    if   typ == 'left':\n",
    "        space =''\n",
    "    elif typ == 'right':\n",
    "        space =' '\n",
    "    elif typ == 'mid':\n",
    "        space = ' '\n",
    "    for i in range(1,n+1):     \n",
    "        print(space*(n-i) + i*'* ')"
   ]
  },
  {
   "cell_type": "code",
   "execution_count": 67,
   "id": "7f5ba524",
   "metadata": {},
   "outputs": [
    {
     "name": "stdout",
     "output_type": "stream",
     "text": [
      "* \n",
      "* * \n",
      "* * * \n",
      "* * * * \n",
      "* * * * * \n",
      "* * * * * * \n",
      "* * * * * * * \n",
      "* * * * * * * * \n",
      "* * * * * * * * * \n",
      "* * * * * * * * * * \n"
     ]
    }
   ],
   "source": [
    "print_star(10,\"left\")"
   ]
  },
  {
   "cell_type": "code",
   "execution_count": 76,
   "id": "74390ffd",
   "metadata": {},
   "outputs": [],
   "source": [
    "def sum_of_n_natural_number(n):\n",
    "        result = 0\n",
    "        for i in range(1,n+1):\n",
    "            result +=i\n",
    "        return result"
   ]
  },
  {
   "cell_type": "code",
   "execution_count": 78,
   "id": "22ebcdef",
   "metadata": {},
   "outputs": [
    {
     "data": {
      "text/plain": [
       "78"
      ]
     },
     "execution_count": 78,
     "metadata": {},
     "output_type": "execute_result"
    }
   ],
   "source": [
    "sum_of_n_natural_number(12)"
   ]
  },
  {
   "cell_type": "code",
   "execution_count": 79,
   "id": "43c6289e",
   "metadata": {},
   "outputs": [],
   "source": [
    "def factorial(n):\n",
    "        result = 1\n",
    "        for i in range(1,n+1):\n",
    "            result *=i\n",
    "        return result"
   ]
  },
  {
   "cell_type": "code",
   "execution_count": 80,
   "id": "504a8496",
   "metadata": {},
   "outputs": [
    {
     "data": {
      "text/plain": [
       "40320"
      ]
     },
     "execution_count": 80,
     "metadata": {},
     "output_type": "execute_result"
    }
   ],
   "source": [
    "factorial(8)"
   ]
  },
  {
   "cell_type": "code",
   "execution_count": 9,
   "id": "d54ab7d3",
   "metadata": {},
   "outputs": [],
   "source": [
    "def total_sales(*args):\n",
    "  #unpacking\n",
    "  result = 0\n",
    "  for i in args:\n",
    "    result += i\n",
    "  return result"
   ]
  },
  {
   "cell_type": "code",
   "execution_count": 10,
   "id": "d964e094",
   "metadata": {},
   "outputs": [
    {
     "data": {
      "text/plain": [
       "91"
      ]
     },
     "execution_count": 10,
     "metadata": {},
     "output_type": "execute_result"
    }
   ],
   "source": [
    "total_sales(1,4,7,8,5,5,7,54)"
   ]
  },
  {
   "cell_type": "code",
   "execution_count": 17,
   "id": "01ef884d",
   "metadata": {},
   "outputs": [
    {
     "name": "stdout",
     "output_type": "stream",
     "text": [
      "0\n"
     ]
    }
   ],
   "source": [
    "sales = [45678,63,456,2,0]\n",
    "min_element = sales[0]\n",
    "\n",
    "for i in sales[1:]:\n",
    "  if i < min_element:\n",
    "    min_element = i\n",
    "print(min_element)"
   ]
  },
  {
   "cell_type": "code",
   "execution_count": 20,
   "id": "37d29563",
   "metadata": {},
   "outputs": [
    {
     "name": "stdout",
     "output_type": "stream",
     "text": [
      "45678\n"
     ]
    }
   ],
   "source": [
    "sales = [45678,63,456,2,0]\n",
    "max_element = sales[0]\n",
    "\n",
    "for i in sales[1:]:\n",
    "  if i > max_element:\n",
    "    max_element = i\n",
    "print(max_element)"
   ]
  },
  {
   "cell_type": "code",
   "execution_count": 23,
   "id": "c5ed09c1",
   "metadata": {},
   "outputs": [],
   "source": [
    "def maxx(*data):\n",
    "  maxx_ele = data[0]\n",
    "  for i in data[1:]:\n",
    "    if i> maxx_ele:\n",
    "      maxx_ele = i\n",
    "  return maxx_ele"
   ]
  },
  {
   "cell_type": "code",
   "execution_count": 24,
   "id": "b8d4587f",
   "metadata": {},
   "outputs": [
    {
     "data": {
      "text/plain": [
       "667"
      ]
     },
     "execution_count": 24,
     "metadata": {},
     "output_type": "execute_result"
    }
   ],
   "source": [
    "maxx(376,246,354,64,667,468)"
   ]
  },
  {
   "cell_type": "code",
   "execution_count": 28,
   "id": "4ba17b54",
   "metadata": {},
   "outputs": [],
   "source": [
    "company = ['ola','uber','rapido','indrive','adani','tata']\n",
    "def add_hashtag(*company):\n",
    "    result =[]\n",
    "    for i in company:\n",
    "        result.append(\"#\"+i.upper())\n",
    "    return result"
   ]
  },
  {
   "cell_type": "code",
   "execution_count": 29,
   "id": "e2795d3c",
   "metadata": {},
   "outputs": [
    {
     "data": {
      "text/plain": [
       "['#OLA', '#UBER', '#RAPIDO', '#INDRIVE', '#ADANI', '#TATA']"
      ]
     },
     "execution_count": 29,
     "metadata": {},
     "output_type": "execute_result"
    }
   ],
   "source": [
    "add_hashtag(*company)"
   ]
  },
  {
   "cell_type": "code",
   "execution_count": 50,
   "id": "f5049e67",
   "metadata": {},
   "outputs": [],
   "source": [
    "def store_record(name,age,sec,roll_no,Class):\n",
    "        data = {'Name':name,'Age':age,'Sec':sec,'Roll_NO':roll_no,'Class':Class}\n",
    "        import pandas as pd\n",
    "        result = pd.DataFrame(data,index = [1])\n",
    "        return result "
   ]
  },
  {
   "cell_type": "code",
   "execution_count": 52,
   "id": "6fc122d2",
   "metadata": {},
   "outputs": [
    {
     "data": {
      "text/html": [
       "<div>\n",
       "<style scoped>\n",
       "    .dataframe tbody tr th:only-of-type {\n",
       "        vertical-align: middle;\n",
       "    }\n",
       "\n",
       "    .dataframe tbody tr th {\n",
       "        vertical-align: top;\n",
       "    }\n",
       "\n",
       "    .dataframe thead th {\n",
       "        text-align: right;\n",
       "    }\n",
       "</style>\n",
       "<table border=\"1\" class=\"dataframe\">\n",
       "  <thead>\n",
       "    <tr style=\"text-align: right;\">\n",
       "      <th></th>\n",
       "      <th>Name</th>\n",
       "      <th>Age</th>\n",
       "      <th>Sec</th>\n",
       "      <th>Roll_NO</th>\n",
       "      <th>Class</th>\n",
       "    </tr>\n",
       "  </thead>\n",
       "  <tbody>\n",
       "    <tr>\n",
       "      <th>1</th>\n",
       "      <td>Mohan</td>\n",
       "      <td>21</td>\n",
       "      <td>A</td>\n",
       "      <td>12</td>\n",
       "      <td>12</td>\n",
       "    </tr>\n",
       "  </tbody>\n",
       "</table>\n",
       "</div>"
      ],
      "text/plain": [
       "    Name  Age Sec  Roll_NO  Class\n",
       "1  Mohan   21   A       12     12"
      ]
     },
     "metadata": {},
     "output_type": "display_data"
    },
    {
     "data": {
      "text/html": [
       "<div>\n",
       "<style scoped>\n",
       "    .dataframe tbody tr th:only-of-type {\n",
       "        vertical-align: middle;\n",
       "    }\n",
       "\n",
       "    .dataframe tbody tr th {\n",
       "        vertical-align: top;\n",
       "    }\n",
       "\n",
       "    .dataframe thead th {\n",
       "        text-align: right;\n",
       "    }\n",
       "</style>\n",
       "<table border=\"1\" class=\"dataframe\">\n",
       "  <thead>\n",
       "    <tr style=\"text-align: right;\">\n",
       "      <th></th>\n",
       "      <th>Name</th>\n",
       "      <th>Age</th>\n",
       "      <th>Sec</th>\n",
       "      <th>Roll_NO</th>\n",
       "      <th>Class</th>\n",
       "    </tr>\n",
       "  </thead>\n",
       "  <tbody>\n",
       "    <tr>\n",
       "      <th>1</th>\n",
       "      <td>Karan</td>\n",
       "      <td>21</td>\n",
       "      <td>A</td>\n",
       "      <td>12</td>\n",
       "      <td>12</td>\n",
       "    </tr>\n",
       "  </tbody>\n",
       "</table>\n",
       "</div>"
      ],
      "text/plain": [
       "    Name  Age Sec  Roll_NO  Class\n",
       "1  Karan   21   A       12     12"
      ]
     },
     "metadata": {},
     "output_type": "display_data"
    },
    {
     "data": {
      "text/html": [
       "<div>\n",
       "<style scoped>\n",
       "    .dataframe tbody tr th:only-of-type {\n",
       "        vertical-align: middle;\n",
       "    }\n",
       "\n",
       "    .dataframe tbody tr th {\n",
       "        vertical-align: top;\n",
       "    }\n",
       "\n",
       "    .dataframe thead th {\n",
       "        text-align: right;\n",
       "    }\n",
       "</style>\n",
       "<table border=\"1\" class=\"dataframe\">\n",
       "  <thead>\n",
       "    <tr style=\"text-align: right;\">\n",
       "      <th></th>\n",
       "      <th>Name</th>\n",
       "      <th>Age</th>\n",
       "      <th>Sec</th>\n",
       "      <th>Roll_NO</th>\n",
       "      <th>Class</th>\n",
       "    </tr>\n",
       "  </thead>\n",
       "  <tbody>\n",
       "    <tr>\n",
       "      <th>1</th>\n",
       "      <td>Naman</td>\n",
       "      <td>21</td>\n",
       "      <td>A</td>\n",
       "      <td>12</td>\n",
       "      <td>12</td>\n",
       "    </tr>\n",
       "  </tbody>\n",
       "</table>\n",
       "</div>"
      ],
      "text/plain": [
       "    Name  Age Sec  Roll_NO  Class\n",
       "1  Naman   21   A       12     12"
      ]
     },
     "metadata": {},
     "output_type": "display_data"
    }
   ],
   "source": [
    "display(store_record('Mohan',21,'A',12,12))\n",
    "display(store_record('Karan',21,'A',12,12))\n",
    "display(store_record('Naman',21,'A',12,12))"
   ]
  },
  {
   "cell_type": "code",
   "execution_count": 53,
   "id": "7ba56cf0",
   "metadata": {},
   "outputs": [],
   "source": [
    "def students_records(**kwargs):\n",
    "    # print(kwargs)\n",
    "    # try exception\n",
    "    import pandas as pd\n",
    "    try:\n",
    "        result = pd.DataFrame(kwargs)\n",
    "        return result\n",
    "    except:\n",
    "        result = pd.DataFrame(kwargs,index = [1])\n",
    "        return result"
   ]
  },
  {
   "cell_type": "code",
   "execution_count": 54,
   "id": "9b2a1bf6",
   "metadata": {},
   "outputs": [
    {
     "data": {
      "text/html": [
       "<div>\n",
       "<style scoped>\n",
       "    .dataframe tbody tr th:only-of-type {\n",
       "        vertical-align: middle;\n",
       "    }\n",
       "\n",
       "    .dataframe tbody tr th {\n",
       "        vertical-align: top;\n",
       "    }\n",
       "\n",
       "    .dataframe thead th {\n",
       "        text-align: right;\n",
       "    }\n",
       "</style>\n",
       "<table border=\"1\" class=\"dataframe\">\n",
       "  <thead>\n",
       "    <tr style=\"text-align: right;\">\n",
       "      <th></th>\n",
       "      <th>Name</th>\n",
       "      <th>Age</th>\n",
       "      <th>Roll_No</th>\n",
       "      <th>Address</th>\n",
       "    </tr>\n",
       "  </thead>\n",
       "  <tbody>\n",
       "    <tr>\n",
       "      <th>0</th>\n",
       "      <td>Komal</td>\n",
       "      <td>23</td>\n",
       "      <td>23</td>\n",
       "      <td>Noida</td>\n",
       "    </tr>\n",
       "    <tr>\n",
       "      <th>1</th>\n",
       "      <td>Mohan</td>\n",
       "      <td>45</td>\n",
       "      <td>32</td>\n",
       "      <td>Delhi</td>\n",
       "    </tr>\n",
       "    <tr>\n",
       "      <th>2</th>\n",
       "      <td>Ajay</td>\n",
       "      <td>56</td>\n",
       "      <td>67</td>\n",
       "      <td>Greater Noida</td>\n",
       "    </tr>\n",
       "  </tbody>\n",
       "</table>\n",
       "</div>"
      ],
      "text/plain": [
       "    Name  Age  Roll_No        Address\n",
       "0  Komal   23       23          Noida\n",
       "1  Mohan   45       32          Delhi\n",
       "2   Ajay   56       67  Greater Noida"
      ]
     },
     "execution_count": 54,
     "metadata": {},
     "output_type": "execute_result"
    }
   ],
   "source": [
    "students_records(Name = ['Komal','Mohan','Ajay'],\n",
    "                 Age = [23,45,56],\n",
    "                 Roll_No = [23,32,67],\n",
    "                 Address = ['Noida','Delhi','Greater Noida'])"
   ]
  }
 ],
 "metadata": {
  "kernelspec": {
   "display_name": "Python 3",
   "language": "python",
   "name": "python3"
  },
  "language_info": {
   "codemirror_mode": {
    "name": "ipython",
    "version": 3
   },
   "file_extension": ".py",
   "mimetype": "text/x-python",
   "name": "python",
   "nbconvert_exporter": "python",
   "pygments_lexer": "ipython3",
   "version": "3.13.2"
  }
 },
 "nbformat": 4,
 "nbformat_minor": 5
}
