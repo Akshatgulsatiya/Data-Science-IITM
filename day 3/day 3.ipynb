{
 "cells": [
  {
   "cell_type": "code",
   "execution_count": 5,
   "id": "e3c7edd2",
   "metadata": {},
   "outputs": [
    {
     "name": "stdout",
     "output_type": "stream",
     "text": [
      "can vote\n"
     ]
    }
   ],
   "source": [
    "age = 25\n",
    "if (age>=18):\n",
    "    print(\"can vote\")\n",
    "else: \n",
    "    print('cant vote')    "
   ]
  },
  {
   "cell_type": "code",
   "execution_count": 6,
   "id": "8f8af91f",
   "metadata": {},
   "outputs": [
    {
     "name": "stdout",
     "output_type": "stream",
     "text": [
      "Invalid Code!!\n"
     ]
    }
   ],
   "source": [
    "# Exception handling\n",
    "\n",
    "\n",
    "age = '23'\n",
    "\n",
    "try:\n",
    "  # print(1/0)\n",
    "  print(vari)\n",
    "  if age >= 18:\n",
    "    print('can vote')\n",
    "  else:\n",
    "    print('can\\'t vote')\n",
    "except TypeError:\n",
    "  print('Something went wrong!!')\n",
    "  print('Invalid datatype comparison!!')\n",
    "\n",
    "except:\n",
    "  print('Invalid Code!!')"
   ]
  },
  {
   "cell_type": "code",
   "execution_count": 9,
   "id": "8ad9c1be",
   "metadata": {},
   "outputs": [],
   "source": [
    "def student_record(**kwargs):\n",
    "    import pandas as pd\n",
    "    try:\n",
    "        data = pd.DataFrame(kwargs)\n",
    "        return data\n",
    "    except:\n",
    "        data = pd.DataFrame(kwargs,index=[1])\n",
    "        return data "
   ]
  },
  {
   "cell_type": "code",
   "execution_count": 10,
   "id": "8f9bf27d",
   "metadata": {},
   "outputs": [
    {
     "data": {
      "text/html": [
       "<div>\n",
       "<style scoped>\n",
       "    .dataframe tbody tr th:only-of-type {\n",
       "        vertical-align: middle;\n",
       "    }\n",
       "\n",
       "    .dataframe tbody tr th {\n",
       "        vertical-align: top;\n",
       "    }\n",
       "\n",
       "    .dataframe thead th {\n",
       "        text-align: right;\n",
       "    }\n",
       "</style>\n",
       "<table border=\"1\" class=\"dataframe\">\n",
       "  <thead>\n",
       "    <tr style=\"text-align: right;\">\n",
       "      <th></th>\n",
       "      <th>Name</th>\n",
       "      <th>Age</th>\n",
       "      <th>Address</th>\n",
       "    </tr>\n",
       "  </thead>\n",
       "  <tbody>\n",
       "    <tr>\n",
       "      <th>1</th>\n",
       "      <td>Cristiano</td>\n",
       "      <td>40</td>\n",
       "      <td>Portugal</td>\n",
       "    </tr>\n",
       "  </tbody>\n",
       "</table>\n",
       "</div>"
      ],
      "text/plain": [
       "        Name  Age   Address\n",
       "1  Cristiano   40  Portugal"
      ]
     },
     "execution_count": 10,
     "metadata": {},
     "output_type": "execute_result"
    }
   ],
   "source": [
    "student_record(Name=\"Cristiano\",Age=40,Address=\"Portugal\")"
   ]
  },
  {
   "cell_type": "code",
   "execution_count": 24,
   "id": "64bc5a51",
   "metadata": {},
   "outputs": [
    {
     "data": {
      "text/html": [
       "<div>\n",
       "<style scoped>\n",
       "    .dataframe tbody tr th:only-of-type {\n",
       "        vertical-align: middle;\n",
       "    }\n",
       "\n",
       "    .dataframe tbody tr th {\n",
       "        vertical-align: top;\n",
       "    }\n",
       "\n",
       "    .dataframe thead th {\n",
       "        text-align: right;\n",
       "    }\n",
       "</style>\n",
       "<table border=\"1\" class=\"dataframe\">\n",
       "  <thead>\n",
       "    <tr style=\"text-align: right;\">\n",
       "      <th></th>\n",
       "      <th>Name</th>\n",
       "      <th>Age</th>\n",
       "      <th>Address</th>\n",
       "      <th>title</th>\n",
       "    </tr>\n",
       "  </thead>\n",
       "  <tbody>\n",
       "    <tr>\n",
       "      <th>0</th>\n",
       "      <td>Yamal</td>\n",
       "      <td>17</td>\n",
       "      <td>Spain</td>\n",
       "      <td>A</td>\n",
       "    </tr>\n",
       "    <tr>\n",
       "      <th>1</th>\n",
       "      <td>Luka</td>\n",
       "      <td>39</td>\n",
       "      <td>Crotia</td>\n",
       "      <td>+</td>\n",
       "    </tr>\n",
       "    <tr>\n",
       "      <th>2</th>\n",
       "      <td>Baletti</td>\n",
       "      <td>45</td>\n",
       "      <td>Brazil</td>\n",
       "      <td>A</td>\n",
       "    </tr>\n",
       "  </tbody>\n",
       "</table>\n",
       "</div>"
      ],
      "text/plain": [
       "      Name  Age Address title\n",
       "0    Yamal   17   Spain     A\n",
       "1     Luka   39  Crotia     +\n",
       "2  Baletti   45  Brazil     A"
      ]
     },
     "execution_count": 24,
     "metadata": {},
     "output_type": "execute_result"
    }
   ],
   "source": [
    "student_record(Name=[\"Yamal\",\"Luka\",\"Baletti\"],Age =[17,39,45],Address=['Spain','Crotia','Brazil'],title=list('A+A'))"
   ]
  },
  {
   "cell_type": "code",
   "execution_count": null,
   "id": "72f05927",
   "metadata": {},
   "outputs": [],
   "source": [
    "def show_time():\n",
    "        try:\n",
    "           while True:\n",
    "            import time\n",
    "            print(time.asctime())\n",
    "            time.sleep(1)\n",
    "            display(clear=True)\n",
    "        except :\n",
    "            print(\"InterruptedError\")"
   ]
  },
  {
   "cell_type": "code",
   "execution_count": 29,
   "id": "a2fd8206",
   "metadata": {},
   "outputs": [
    {
     "name": "stdout",
     "output_type": "stream",
     "text": [
      "Fri Jul  4 10:40:44 2025\n",
      "InterruptedError\n"
     ]
    }
   ],
   "source": [
    "show_time()"
   ]
  },
  {
   "cell_type": "code",
   "execution_count": 1,
   "id": "328e6dcb",
   "metadata": {},
   "outputs": [
    {
     "name": "stdout",
     "output_type": "stream",
     "text": [
      "This is akshat module in python \n",
      "      Info: https://www.google.com/\n"
     ]
    }
   ],
   "source": [
    "import akshat as ak"
   ]
  },
  {
   "cell_type": "code",
   "execution_count": 3,
   "id": "9d4a5fa2",
   "metadata": {},
   "outputs": [
    {
     "name": "stdout",
     "output_type": "stream",
     "text": [
      "      ^ \n",
      "     ^ ^ \n",
      "    ^ ^ ^ \n",
      "   ^ ^ ^ ^ \n",
      "  ^ ^ ^ ^ ^ \n",
      " ^ ^ ^ ^ ^ ^ \n",
      "^ ^ ^ ^ ^ ^ ^ \n"
     ]
    }
   ],
   "source": [
    "ak.print_star(n = 7,typ=\"mid\",shape='^')"
   ]
  },
  {
   "cell_type": "code",
   "execution_count": 51,
   "id": "9d0e7c0f",
   "metadata": {},
   "outputs": [
    {
     "data": {
      "text/plain": [
       "[0, 1, 1, 2, 3, 5, 8]"
      ]
     },
     "execution_count": 51,
     "metadata": {},
     "output_type": "execute_result"
    }
   ],
   "source": [
    "ak.give_fibo(7)"
   ]
  },
  {
   "cell_type": "code",
   "execution_count": 52,
   "id": "aeda7d00",
   "metadata": {},
   "outputs": [
    {
     "data": {
      "text/plain": [
       "'Prime number'"
      ]
     },
     "execution_count": 52,
     "metadata": {},
     "output_type": "execute_result"
    }
   ],
   "source": [
    "ak.check_prime(89\n",
    "               )"
   ]
  },
  {
   "cell_type": "code",
   "execution_count": 61,
   "id": "537abff2",
   "metadata": {},
   "outputs": [
    {
     "name": "stdout",
     "output_type": "stream",
     "text": [
      "Requirement already satisfied: gTTS in c:\\users\\aksha\\appdata\\local\\programs\\python\\python313\\lib\\site-packages (2.5.4)\n",
      "Requirement already satisfied: requests<3,>=2.27 in c:\\users\\aksha\\appdata\\local\\programs\\python\\python313\\lib\\site-packages (from gTTS) (2.32.4)\n",
      "Requirement already satisfied: click<8.2,>=7.1 in c:\\users\\aksha\\appdata\\local\\programs\\python\\python313\\lib\\site-packages (from gTTS) (8.1.8)\n",
      "Requirement already satisfied: colorama in c:\\users\\aksha\\appdata\\local\\programs\\python\\python313\\lib\\site-packages (from click<8.2,>=7.1->gTTS) (0.4.6)\n",
      "Requirement already satisfied: charset_normalizer<4,>=2 in c:\\users\\aksha\\appdata\\local\\programs\\python\\python313\\lib\\site-packages (from requests<3,>=2.27->gTTS) (3.4.2)\n",
      "Requirement already satisfied: idna<4,>=2.5 in c:\\users\\aksha\\appdata\\local\\programs\\python\\python313\\lib\\site-packages (from requests<3,>=2.27->gTTS) (3.10)\n",
      "Requirement already satisfied: urllib3<3,>=1.21.1 in c:\\users\\aksha\\appdata\\local\\programs\\python\\python313\\lib\\site-packages (from requests<3,>=2.27->gTTS) (2.5.0)\n",
      "Requirement already satisfied: certifi>=2017.4.17 in c:\\users\\aksha\\appdata\\local\\programs\\python\\python313\\lib\\site-packages (from requests<3,>=2.27->gTTS) (2025.6.15)\n"
     ]
    },
    {
     "name": "stderr",
     "output_type": "stream",
     "text": [
      "\n",
      "[notice] A new release of pip is available: 24.3.1 -> 25.1.1\n",
      "[notice] To update, run: python.exe -m pip install --upgrade pip\n"
     ]
    }
   ],
   "source": [
    "!pip install gTTS\n"
   ]
  },
  {
   "cell_type": "code",
   "execution_count": 60,
   "id": "66b060ad",
   "metadata": {},
   "outputs": [],
   "source": [
    "ak.sound_box(\"never give up\")"
   ]
  },
  {
   "cell_type": "code",
   "execution_count": 62,
   "id": "77ebb4a1",
   "metadata": {},
   "outputs": [
    {
     "data": {
      "text/plain": [
       "'palindrone'"
      ]
     },
     "execution_count": 62,
     "metadata": {},
     "output_type": "execute_result"
    }
   ],
   "source": [
    "ak.check_palindrone('nitin')"
   ]
  },
  {
   "cell_type": "code",
   "execution_count": 5,
   "id": "27a8f687",
   "metadata": {},
   "outputs": [],
   "source": [
    "from akshat import student_record"
   ]
  },
  {
   "cell_type": "code",
   "execution_count": 6,
   "id": "3916bc81",
   "metadata": {},
   "outputs": [
    {
     "data": {
      "text/html": [
       "<div>\n",
       "<style scoped>\n",
       "    .dataframe tbody tr th:only-of-type {\n",
       "        vertical-align: middle;\n",
       "    }\n",
       "\n",
       "    .dataframe tbody tr th {\n",
       "        vertical-align: top;\n",
       "    }\n",
       "\n",
       "    .dataframe thead th {\n",
       "        text-align: right;\n",
       "    }\n",
       "</style>\n",
       "<table border=\"1\" class=\"dataframe\">\n",
       "  <thead>\n",
       "    <tr style=\"text-align: right;\">\n",
       "      <th></th>\n",
       "      <th>name</th>\n",
       "      <th>age</th>\n",
       "    </tr>\n",
       "  </thead>\n",
       "  <tbody>\n",
       "    <tr>\n",
       "      <th>1</th>\n",
       "      <td>messi</td>\n",
       "      <td>37</td>\n",
       "    </tr>\n",
       "  </tbody>\n",
       "</table>\n",
       "</div>"
      ],
      "text/plain": [
       "    name  age\n",
       "1  messi   37"
      ]
     },
     "execution_count": 6,
     "metadata": {},
     "output_type": "execute_result"
    }
   ],
   "source": [
    "student_record(name='messi',age=37)"
   ]
  },
  {
   "cell_type": "code",
   "execution_count": 7,
   "id": "4971b6d1",
   "metadata": {},
   "outputs": [
    {
     "name": "stdout",
     "output_type": "stream",
     "text": [
      "done\n"
     ]
    }
   ],
   "source": [
    "from akshat import *\n",
    "print('done')"
   ]
  },
  {
   "cell_type": "code",
   "execution_count": 8,
   "id": "f12c764e",
   "metadata": {},
   "outputs": [
    {
     "data": {
      "text/plain": [
       "3081"
      ]
     },
     "execution_count": 8,
     "metadata": {},
     "output_type": "execute_result"
    }
   ],
   "source": [
    "sum_of_n_natural_number(78)"
   ]
  },
  {
   "cell_type": "code",
   "execution_count": 10,
   "id": "0775dff4",
   "metadata": {},
   "outputs": [
    {
     "name": "stdout",
     "output_type": "stream",
     "text": [
      "done\n"
     ]
    }
   ],
   "source": [
    "import turtle\n",
    "print('done')"
   ]
  },
  {
   "cell_type": "code",
   "execution_count": null,
   "id": "63672a07",
   "metadata": {},
   "outputs": [
    {
     "ename": "",
     "evalue": "",
     "output_type": "error",
     "traceback": [
      "\u001b[1;31mThe Kernel crashed while executing code in the current cell or a previous cell. \n",
      "\u001b[1;31mPlease review the code in the cell(s) to identify a possible cause of the failure. \n",
      "\u001b[1;31mClick <a href='https://aka.ms/vscodeJupyterKernelCrash'>here</a> for more info. \n",
      "\u001b[1;31mView Jupyter <a href='command:jupyter.viewOutput'>log</a> for further details."
     ]
    }
   ],
   "source": [
    "import turtle \n",
    "for i in range (120):\n",
    "    turtle.speed(0)\n",
    "    turtle.bgcolor('black')\n",
    "    col = ['red','yellow','green','blue','orange']\n",
    "    import random\n",
    "    picked_color = random.choice(col)\n",
    "    turtle.color(picked_color)\n",
    "    turtle.circle(100)\n",
    "    turtle.left(3)"
   ]
  },
  {
   "cell_type": "code",
   "execution_count": null,
   "id": "72c91992",
   "metadata": {},
   "outputs": [
    {
     "ename": "",
     "evalue": "",
     "output_type": "error",
     "traceback": [
      "\u001b[1;31mThe Kernel crashed while executing code in the current cell or a previous cell. \n",
      "\u001b[1;31mPlease review the code in the cell(s) to identify a possible cause of the failure. \n",
      "\u001b[1;31mClick <a href='https://aka.ms/vscodeJupyterKernelCrash'>here</a> for more info. \n",
      "\u001b[1;31mView Jupyter <a href='command:jupyter.viewOutput'>log</a> for further details."
     ]
    }
   ],
   "source": [
    "import turtle\n",
    "for i in range(6):\n",
    "    turtle.bgcolor('black')\n",
    "    turtle.color('cyan')\n",
    "    turtle.forward(150)\n",
    "    turtle.left(60)"
   ]
  },
  {
   "cell_type": "code",
   "execution_count": 2,
   "id": "a8a239b2",
   "metadata": {},
   "outputs": [],
   "source": [
    "file = open('akshat.py',mode = 'r')"
   ]
  },
  {
   "cell_type": "code",
   "execution_count": 21,
   "id": "84634952",
   "metadata": {},
   "outputs": [
    {
     "name": "stdout",
     "output_type": "stream",
     "text": [
      "print('''This is akshat module in python \n",
      "      Info: https://www.google.com/''') \n",
      "\n",
      "def check_palindrone(word:str):\n",
      "    if type(word) == str:\n",
      "        word =word.upper()\n",
      "        if word == word[::-1]:\n",
      "\n"
     ]
    }
   ],
   "source": [
    "file = open('akshat.py',mode = 'r')\n",
    "print(file.read(200))\n",
    "file.close() #close of a file is importent otherwise its increse the storge in RAM"
   ]
  },
  {
   "cell_type": "code",
   "execution_count": 25,
   "id": "cefacedb",
   "metadata": {},
   "outputs": [],
   "source": [
    "f = open('akshat.py',mode = 'r')"
   ]
  },
  {
   "cell_type": "code",
   "execution_count": 31,
   "id": "98b44acd",
   "metadata": {},
   "outputs": [
    {
     "name": "stdout",
     "output_type": "stream",
     "text": [
      "        word =word.upper()\n",
      "\n"
     ]
    }
   ],
   "source": [
    "print(f.readline())\n",
    "f.close()"
   ]
  },
  {
   "cell_type": "code",
   "execution_count": 35,
   "id": "8651ab10",
   "metadata": {},
   "outputs": [
    {
     "name": "stdout",
     "output_type": "stream",
     "text": [
      "print('''This is akshat module in python \n",
      "\n",
      "      Info: https://www.google.com/''') \n",
      "\n",
      "\n",
      "\n",
      "def check_palindrone(word:str):\n",
      "\n",
      "    if type(word) == str:\n",
      "\n",
      "        word =word.upper()\n",
      "\n"
     ]
    }
   ],
   "source": [
    "f = open('akshat.py',mode = 'r')\n",
    "for i in range(6):\n",
    "    print(f.readline())"
   ]
  },
  {
   "cell_type": "code",
   "execution_count": 37,
   "id": "d83322a8",
   "metadata": {},
   "outputs": [
    {
     "name": "stdout",
     "output_type": "stream",
     "text": [
      "            return 'palindrone'\n",
      "\n"
     ]
    }
   ],
   "source": [
    "f = open('akshat.py',mode = 'r')\n",
    "for i in range(10):\n",
    "    if i == 7: #line no 8\n",
    "        print(f.readline())\n",
    "    else:\n",
    "        f.readline()"
   ]
  },
  {
   "cell_type": "code",
   "execution_count": 38,
   "id": "3c247229",
   "metadata": {},
   "outputs": [
    {
     "name": "stdout",
     "output_type": "stream",
     "text": [
      "done\n"
     ]
    }
   ],
   "source": [
    "f = open('akshat.py',mode = 'r')\n",
    "\n",
    "data = f.readlines()\n",
    "\n",
    "f.close()\n",
    "print('done')"
   ]
  }
 ],
 "metadata": {
  "kernelspec": {
   "display_name": "Python 3",
   "language": "python",
   "name": "python3"
  },
  "language_info": {
   "codemirror_mode": {
    "name": "ipython",
    "version": 3
   },
   "file_extension": ".py",
   "mimetype": "text/x-python",
   "name": "python",
   "nbconvert_exporter": "python",
   "pygments_lexer": "ipython3",
   "version": "3.13.2"
  }
 },
 "nbformat": 4,
 "nbformat_minor": 5
}
