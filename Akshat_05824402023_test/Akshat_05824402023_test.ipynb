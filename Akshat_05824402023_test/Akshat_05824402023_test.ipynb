{
 "cells": [
  {
   "cell_type": "code",
   "execution_count": null,
   "id": "0b095d17",
   "metadata": {},
   "outputs": [
    {
     "name": "stdout",
     "output_type": "stream",
     "text": [
      "[1, 2, 3, 4]\n",
      "(1, 2, 3, 4, 5)\n"
     ]
    }
   ],
   "source": [
    "#Q1\n",
    "# Answer - tuple used () backets, it is mutable\n",
    "#           list used [] backets, it is immutable\n",
    "list =  [1,2,3,4]\n",
    "print(list)\n",
    "tuple = (1,2,3,4,5)\n",
    "print(tuple)"
   ]
  },
  {
   "cell_type": "code",
   "execution_count": null,
   "id": "71fadc89",
   "metadata": {},
   "outputs": [
    {
     "name": "stdout",
     "output_type": "stream",
     "text": [
      "<class 'str'>\n"
     ]
    }
   ],
   "source": [
    "#Q2 \n",
    "#Answer - when we use input in python it used to take inputs and also show there datatypes.\n",
    "user_input = input(\"Enter something: \")\n",
    "print(type(user_input)) \n",
    "\n",
    "          "
   ]
  },
  {
   "cell_type": "code",
   "execution_count": null,
   "id": "f9ba9f35",
   "metadata": {},
   "outputs": [
    {
     "name": "stdout",
     "output_type": "stream",
     "text": [
      "{'Name': ('Rohit', 'Aditya', 'Chirag')}\n"
     ]
    }
   ],
   "source": [
    "#Q3 \n",
    "#Answer - dictionaries is used to enclose the in key-value format and it used within {} backets\n",
    "data = {'Name':('Rohit','Aditya','Chirag')}\n",
    "print(data)"
   ]
  },
  {
   "cell_type": "code",
   "execution_count": null,
   "id": "a78ef04b",
   "metadata": {},
   "outputs": [
    {
     "name": "stdout",
     "output_type": "stream",
     "text": [
      "1\n",
      "2\n",
      "3\n",
      "4\n",
      "5\n"
     ]
    }
   ],
   "source": [
    "#4\n",
    "#Answer - for loop is use in python to execute the block of code in sequence\n",
    "for i in range(1, 6):\n",
    "    print(i)"
   ]
  },
  {
   "cell_type": "code",
   "execution_count": null,
   "id": "bc59a891",
   "metadata": {},
   "outputs": [],
   "source": [
    "#Q5\n",
    "# Answer - exception handling in python is used to find and correct the error occur during execution of a program\n",
    "# try:\n",
    "#     try block is used to contain the block that throws\n",
    "# except:\n",
    "#         except is used to find the \n",
    "# finally:\n",
    "#         finally is used to find and end the exception"
   ]
  },
  {
   "cell_type": "code",
   "execution_count": 10,
   "id": "38e679e5",
   "metadata": {},
   "outputs": [
    {
     "name": "stdout",
     "output_type": "stream",
     "text": [
      "12.0\n",
      "4.0\n"
     ]
    }
   ],
   "source": [
    "#Q6\n",
    "# Answer - python modules are files containing Python code (functions, classes, variables) that can be imported and reused in other programs\n",
    "from math import sqrt\n",
    "result = sqrt(144)\n",
    "print(result)\n",
    "\n",
    "import math\n",
    "result = math.sqrt(16)\n",
    "print(result)  "
   ]
  },
  {
   "cell_type": "code",
   "execution_count": null,
   "id": "3977668b",
   "metadata": {},
   "outputs": [],
   "source": [
    "#Q7\n",
    "#Answer - object oriented programming in Python is a programming that structures code around objects which combine attributes and methods (functions) that operate on that data.\n"
   ]
  },
  {
   "cell_type": "code",
   "execution_count": 12,
   "id": "fc3355b5",
   "metadata": {},
   "outputs": [
    {
     "name": "stdout",
     "output_type": "stream",
     "text": [
      "[0, 4, 8, 12, 16]\n"
     ]
    }
   ],
   "source": [
    "#8\n",
    "#Answer- \n",
    "result = [x * 2 for x in range(10) if x % 2 == 0]\n",
    "print(result)"
   ]
  },
  {
   "cell_type": "code",
   "execution_count": 25,
   "id": "7c6efc04",
   "metadata": {},
   "outputs": [
    {
     "name": "stdout",
     "output_type": "stream",
     "text": [
      "78.53981633974483\n"
     ]
    }
   ],
   "source": [
    "#Q9 \n",
    "#Answer - \n",
    "import math\n",
    "\n",
    "def calculate_area(r):\n",
    "    return math.pi * r**2\n",
    "\n",
    "print(calculate_area(5))\n"
   ]
  },
  {
   "cell_type": "code",
   "execution_count": null,
   "id": "5334d450",
   "metadata": {},
   "outputs": [
    {
     "name": "stdout",
     "output_type": "stream",
     "text": [
      "Hello , you are  years old!\n"
     ]
    }
   ],
   "source": [
    "#Q10\n",
    "#Answer :-\n",
    "name = input('enter your name: ')\n",
    "age = input('enter your age: ')\n",
    "print(f'Hello {name}, you are {age} years old')"
   ]
  },
  {
   "cell_type": "code",
   "execution_count": 18,
   "id": "b9031716",
   "metadata": {},
   "outputs": [
    {
     "name": "stdout",
     "output_type": "stream",
     "text": [
      "Fruit 1: Apple\n",
      "Fruit 2: Banana\n",
      "Fruit 3: Mango\n",
      "Fruit 4: Orange\n"
     ]
    }
   ],
   "source": [
    "#Q11\n",
    "#Annswer -\n",
    "fruits = ['Apple','Banana','Mango','Orange']\n",
    "\n",
    "for index, fruit in enumerate(fruits, start=1):\n",
    "    print(f\"Fruit {index}: {fruit}\")\n"
   ]
  },
  {
   "cell_type": "code",
   "execution_count": 23,
   "id": "98ed452e",
   "metadata": {},
   "outputs": [
    {
     "name": "stdout",
     "output_type": "stream",
     "text": [
      "A\n",
      "B\n",
      "F\n"
     ]
    }
   ],
   "source": [
    "#Q12\n",
    "#Answer - \n",
    "def grade_calculator(score):\n",
    "    if 90 <= score <= 100:\n",
    "        return 'A'\n",
    "    elif 80 <= score < 90:\n",
    "        return 'B'\n",
    "    elif 70 <= score < 80:\n",
    "        return 'C'\n",
    "    elif 60 <= score < 70:\n",
    "        return 'D'\n",
    "    elif 0 <= score < 60:\n",
    "        return 'F'\n",
    "    else:\n",
    "        return 'Invalid score'\n",
    "print(grade_calculator(95)) \n",
    "print(grade_calculator(83)) \n",
    "print(grade_calculator(58))  \n",
    "\n"
   ]
  },
  {
   "cell_type": "code",
   "execution_count": null,
   "id": "88b80d2e",
   "metadata": {},
   "outputs": [],
   "source": [
    "#Q13\n",
    "#Answer -"
   ]
  },
  {
   "cell_type": "code",
   "execution_count": null,
   "id": "b72c9c3a",
   "metadata": {},
   "outputs": [],
   "source": [
    "#Q14\n",
    "#Answer -"
   ]
  },
  {
   "cell_type": "code",
   "execution_count": 21,
   "id": "24a44775",
   "metadata": {},
   "outputs": [
    {
     "name": "stdout",
     "output_type": "stream",
     "text": [
      "2 3 5 7 11 13 17 19 23 29 31 37 41 43 47 "
     ]
    }
   ],
   "source": [
    "#Q15\n",
    "#Answer -\n",
    "for num in range(2, 51):\n",
    "    if all(num % i != 0 for i in range(2, int(num**0.5)+1)):\n",
    "        print(num, end=' ')\n",
    "\n",
    "         \n"
   ]
  }
 ],
 "metadata": {
  "kernelspec": {
   "display_name": "Python 3",
   "language": "python",
   "name": "python3"
  },
  "language_info": {
   "codemirror_mode": {
    "name": "ipython",
    "version": 3
   },
   "file_extension": ".py",
   "mimetype": "text/x-python",
   "name": "python",
   "nbconvert_exporter": "python",
   "pygments_lexer": "ipython3",
   "version": "3.13.2"
  }
 },
 "nbformat": 4,
 "nbformat_minor": 5
}
