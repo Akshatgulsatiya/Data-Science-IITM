{
 "cells": [
  {
   "cell_type": "code",
   "execution_count": 1,
   "id": "6eda6e66",
   "metadata": {},
   "outputs": [
    {
     "name": "stdout",
     "output_type": "stream",
     "text": [
      "\n",
      "  User choice: 5\n",
      "  Computer Choice: 1\n",
      "Better Luck next time!!\n",
      "\n",
      "  User choice: 6\n",
      "  Computer Choice: 9\n",
      "Better Luck next time!!\n",
      "\n",
      "  User choice: 8\n",
      "  Computer Choice: 3\n",
      "Better Luck next time!!\n"
     ]
    }
   ],
   "source": [
    "user_attempts = 3\n",
    "import random\n",
    "for i in range(user_attempts):\n",
    "  comp_choice = random.randint(1,10)\n",
    "  user_choice = int(input('Enter your Choice(1-10): '))\n",
    "\n",
    "  print(f'''\n",
    "  User choice: {user_choice}\n",
    "  Computer Choice: {comp_choice}''')\n",
    "\n",
    "  if user_choice == comp_choice:\n",
    "    print('User Won, Comp Lose!!')\n",
    "  else:\n",
    "    print('Better Luck next time!!')"
   ]
  },
  {
   "cell_type": "code",
   "execution_count": null,
   "id": "7a2c0f58",
   "metadata": {},
   "outputs": [],
   "source": []
  },
  {
   "cell_type": "code",
   "execution_count": 8,
   "id": "c7e4e7e1",
   "metadata": {},
   "outputs": [
    {
     "name": "stdout",
     "output_type": "stream",
     "text": [
      "What is the capital of Australia?\n",
      "A) Sydney\n",
      "B) Melbourne\n",
      "C) Canberra\n",
      "D) Perth\n",
      "B\n",
      "Who invented the telephone?\n",
      "A) Albert Einstein\n",
      "B) Isaac Newton\n",
      "C) Alexander Graham Bell\n",
      "D) Thomas Edison\n",
      "C\n",
      "Which planet is known as the Red Planet?\n",
      "A) Earth\n",
      "B) Venus\n",
      "C) Jupiter\n",
      "D) Mars\n",
      "D\n",
      "In which year did India gain independence?\n",
      "A) 1945\n",
      "B) 1946\n",
      "C) 1947\n",
      "D) 1950\n",
      "C\n",
      "What is the largest organ in the human body?\n",
      "A) Liver\n",
      "B) Brain\n",
      "C) Skin\n",
      "D) Heart\n",
      "C\n",
      "Total Amount Won 10000\n"
     ]
    }
   ],
   "source": [
    "Questions = {1:'What is the capital of Australia?',\n",
    "             2:'Who invented the telephone?',\n",
    "             3:'Which planet is known as the Red Planet?',\n",
    "             4:'In which year did India gain independence?',\n",
    "             5:'What is the largest organ in the human body?'}\n",
    "\n",
    "options = {1:'''A) Sydney\n",
    "B) Melbourne\n",
    "C) Canberra\n",
    "D) Perth''',\n",
    "           2:'''A) Albert Einstein\n",
    "B) Isaac Newton\n",
    "C) Alexander Graham Bell\n",
    "D) Thomas Edison''',\n",
    "           3:'''A) Earth\n",
    "B) Venus\n",
    "C) Jupiter\n",
    "D) Mars''',\n",
    "           4:'''A) 1945\n",
    "B) 1946\n",
    "C) 1947\n",
    "D) 1950''',\n",
    "           5:'''A) Liver\n",
    "B) Brain\n",
    "C) Skin\n",
    "D) Heart'''}\n",
    "\n",
    "\n",
    "correct_op = ['B','C','D','C','C']\n",
    "\n",
    "for i in range(1,len(Questions)+1):\n",
    "    print(Questions[i])\n",
    "    print(options[i])\n",
    "    user_choice = input('Enter your choice: ').upper()\n",
    "    correct_ans = correct_op[i-1]\n",
    "    print(correct_ans)\n",
    "    win_ammount=0\n",
    "    if user_choice == correct_ans:\n",
    "        win_ammount += 10000\n",
    "    else:\n",
    "        print('Better luck next time!!')\n",
    "        break\n",
    "print('Total Amount Won',win_ammount)"
   ]
  },
  {
   "cell_type": "code",
   "execution_count": 20,
   "id": "b4af8ff4",
   "metadata": {},
   "outputs": [
    {
     "name": "stdout",
     "output_type": "stream",
     "text": [
      "89\n",
      "candidate is valid\n"
     ]
    }
   ],
   "source": [
    "def vote():\n",
    "    age=int(input(\"enter your age\"))\n",
    "    print(age)\n",
    "    if age>=18:\n",
    "        print('candidate is valid')\n",
    "    else:\n",
    "        print('candidate is not valid')\n",
    "vote()\n",
    "\n",
    "\n",
    "\n",
    "\n",
    "\n",
    "\n",
    "    "
   ]
  },
  {
   "cell_type": "code",
   "execution_count": 21,
   "id": "7554688b",
   "metadata": {},
   "outputs": [
    {
     "name": "stdout",
     "output_type": "stream",
     "text": [
      "Collecting gTTS\n",
      "  Downloading gTTS-2.5.4-py3-none-any.whl.metadata (4.1 kB)\n",
      "Collecting requests<3,>=2.27 (from gTTS)\n",
      "  Downloading requests-2.32.4-py3-none-any.whl.metadata (4.9 kB)\n",
      "Requirement already satisfied: click<8.2,>=7.1 in c:\\users\\aksha\\appdata\\local\\programs\\python\\python313\\lib\\site-packages (from gTTS) (8.1.8)\n",
      "Requirement already satisfied: colorama in c:\\users\\aksha\\appdata\\local\\programs\\python\\python313\\lib\\site-packages (from click<8.2,>=7.1->gTTS) (0.4.6)\n",
      "Collecting charset_normalizer<4,>=2 (from requests<3,>=2.27->gTTS)\n",
      "  Downloading charset_normalizer-3.4.2-cp313-cp313-win_amd64.whl.metadata (36 kB)\n",
      "Collecting idna<4,>=2.5 (from requests<3,>=2.27->gTTS)\n",
      "  Downloading idna-3.10-py3-none-any.whl.metadata (10 kB)\n",
      "Collecting urllib3<3,>=1.21.1 (from requests<3,>=2.27->gTTS)\n",
      "  Downloading urllib3-2.5.0-py3-none-any.whl.metadata (6.5 kB)\n",
      "Collecting certifi>=2017.4.17 (from requests<3,>=2.27->gTTS)\n",
      "  Downloading certifi-2025.6.15-py3-none-any.whl.metadata (2.4 kB)\n",
      "Downloading gTTS-2.5.4-py3-none-any.whl (29 kB)\n",
      "Downloading requests-2.32.4-py3-none-any.whl (64 kB)\n",
      "Downloading certifi-2025.6.15-py3-none-any.whl (157 kB)\n",
      "Downloading charset_normalizer-3.4.2-cp313-cp313-win_amd64.whl (105 kB)\n",
      "Downloading idna-3.10-py3-none-any.whl (70 kB)\n",
      "Downloading urllib3-2.5.0-py3-none-any.whl (129 kB)\n",
      "Installing collected packages: urllib3, idna, charset_normalizer, certifi, requests, gTTS\n",
      "Successfully installed certifi-2025.6.15 charset_normalizer-3.4.2 gTTS-2.5.4 idna-3.10 requests-2.32.4 urllib3-2.5.0\n",
      "Note: you may need to restart the kernel to use updated packages.\n"
     ]
    },
    {
     "name": "stderr",
     "output_type": "stream",
     "text": [
      "\n",
      "[notice] A new release of pip is available: 24.3.1 -> 25.1.1\n",
      "[notice] To update, run: python.exe -m pip install --upgrade pip\n"
     ]
    }
   ],
   "source": [
    "pip install gTTS"
   ]
  },
  {
   "cell_type": "code",
   "execution_count": 34,
   "id": "692395b9",
   "metadata": {},
   "outputs": [
    {
     "ename": "FileNotFoundError",
     "evalue": "No file '/content/paytm.mp3' found in working directory 'c:\\Users\\Aksha\\Desktop\\python'.",
     "output_type": "error",
     "traceback": [
      "\u001b[31m---------------------------------------------------------------------------\u001b[39m",
      "\u001b[31mFileNotFoundError\u001b[39m                         Traceback (most recent call last)",
      "\u001b[36mCell\u001b[39m\u001b[36m \u001b[39m\u001b[32mIn[34]\u001b[39m\u001b[32m, line 9\u001b[39m\n\u001b[32m      6\u001b[39m \u001b[38;5;28;01mimport\u001b[39;00m\u001b[38;5;250m \u001b[39m\u001b[34;01mpygame\u001b[39;00m\u001b[38;5;250m \u001b[39m\u001b[38;5;28;01mas\u001b[39;00m\u001b[38;5;250m \u001b[39m\u001b[34;01mp\u001b[39;00m\n\u001b[32m      7\u001b[39m p.init()\n\u001b[32m----> \u001b[39m\u001b[32m9\u001b[39m music = \u001b[43mp\u001b[49m\u001b[43m.\u001b[49m\u001b[43mmixer\u001b[49m\u001b[43m.\u001b[49m\u001b[43mSound\u001b[49m\u001b[43m(\u001b[49m\u001b[33;43m'\u001b[39;49m\u001b[33;43m/content/paytm.mp3\u001b[39;49m\u001b[33;43m'\u001b[39;49m\u001b[43m)\u001b[49m\n\u001b[32m     10\u001b[39m music.play()\n",
      "\u001b[31mFileNotFoundError\u001b[39m: No file '/content/paytm.mp3' found in working directory 'c:\\Users\\Aksha\\Desktop\\python'."
     ]
    }
   ],
   "source": [
    "from gtts import gTTS\n",
    "text  = '''Paytm par 50 rs Prapt hue.'''\n",
    "audio = gTTS(text)\n",
    "audio.save('paytm.mp3')\n",
    "\n",
    "import pygame as p\n",
    "p.init()\n",
    "\n",
    "music = p.mixer.Sound('/content/paytm.mp3')\n",
    "music.play()"
   ]
  },
  {
   "cell_type": "code",
   "execution_count": 28,
   "id": "28bca613",
   "metadata": {},
   "outputs": [
    {
     "name": "stdout",
     "output_type": "stream",
     "text": [
      "Collecting pygame\n",
      "  Downloading pygame-2.6.1-cp313-cp313-win_amd64.whl.metadata (13 kB)\n",
      "Downloading pygame-2.6.1-cp313-cp313-win_amd64.whl (10.6 MB)\n",
      "   ---------------------------------------- 0.0/10.6 MB ? eta -:--:--\n",
      "   ---------- ----------------------------- 2.9/10.6 MB 17.6 MB/s eta 0:00:01\n",
      "   -------------------------- ------------- 7.1/10.6 MB 18.3 MB/s eta 0:00:01\n",
      "   ---------------------------------------  10.5/10.6 MB 20.6 MB/s eta 0:00:01\n",
      "   ---------------------------------------- 10.6/10.6 MB 16.1 MB/s eta 0:00:00\n",
      "Installing collected packages: pygame\n",
      "Successfully installed pygame-2.6.1\n",
      "Note: you may need to restart the kernel to use updated packages.\n"
     ]
    },
    {
     "name": "stderr",
     "output_type": "stream",
     "text": [
      "\n",
      "[notice] A new release of pip is available: 24.3.1 -> 25.1.1\n",
      "[notice] To update, run: python.exe -m pip install --upgrade pip\n"
     ]
    }
   ],
   "source": [
    "pip install pygame\n"
   ]
  },
  {
   "cell_type": "code",
   "execution_count": 1,
   "id": "ed0f8d57",
   "metadata": {},
   "outputs": [
    {
     "name": "stdout",
     "output_type": "stream",
     "text": [
      "pygame 2.6.1 (SDL 2.28.4, Python 3.13.2)\n",
      "Hello from the pygame community. https://www.pygame.org/contribute.html\n"
     ]
    },
    {
     "data": {
      "text/plain": [
       "<pygame.mixer.Channel at 0x12b88967e30>"
      ]
     },
     "execution_count": 1,
     "metadata": {},
     "output_type": "execute_result"
    }
   ],
   "source": [
    "from gtts import gTTS\n",
    "text  = '''Paytm par 50 rs Prapt hue.'''\n",
    "audio = gTTS(text)\n",
    "audio.save('paytm.mp3')\n",
    "\n",
    "import pygame as p\n",
    "p.init()\n",
    "\n",
    "music = p.mixer.Sound('paytm.mp3')\n",
    "music.play()"
   ]
  }
 ],
 "metadata": {
  "kernelspec": {
   "display_name": "Python 3",
   "language": "python",
   "name": "python3"
  },
  "language_info": {
   "codemirror_mode": {
    "name": "ipython",
    "version": 3
   },
   "file_extension": ".py",
   "mimetype": "text/x-python",
   "name": "python",
   "nbconvert_exporter": "python",
   "pygments_lexer": "ipython3",
   "version": "3.13.2"
  }
 },
 "nbformat": 4,
 "nbformat_minor": 5
}
